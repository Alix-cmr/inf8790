{
  "cells": [
    {
      "cell_type": "markdown",
      "id": "e975a529-97c4-44f3-bc31-782021f77867",
      "metadata": {
        "id": "e975a529-97c4-44f3-bc31-782021f77867"
      },
      "source": [
        "# Membres de l'équipe:\n",
        "\n",
        "# Etudiant 1:\n",
        "\n",
        "* Nom: **Assani Amate**\n",
        "* Prénom:**Ousmane**\n",
        "* Code permanent **ASSO8431004**\n",
        "# Etudiant 2:\n",
        "\n",
        "* Nom: **SIL BEKONA**\n",
        "* Prénom: **Alix**\n",
        "* Code permanent: **SILA063295090**"
      ]
    },
    {
      "cell_type": "markdown",
      "id": "cfdb1388-915c-47d1-9d00-dba4501f4564",
      "metadata": {
        "id": "cfdb1388-915c-47d1-9d00-dba4501f4564"
      },
      "source": [
        "# Projet 2 : Traitement des données massives"
      ]
    },
    {
      "cell_type": "markdown",
      "id": "5446aaac-0d33-40da-8aed-1dbc15ea5a26",
      "metadata": {
        "id": "5446aaac-0d33-40da-8aed-1dbc15ea5a26"
      },
      "source": [
        "# Partie 1 : Données"
      ]
    },
    {
      "cell_type": "markdown",
      "id": "8ac8b9f8-4626-4a6f-8bca-c3b910c4b62b",
      "metadata": {
        "id": "8ac8b9f8-4626-4a6f-8bca-c3b910c4b62b"
      },
      "source": [
        "# Question 1 :  Quelle est l'origine des données (lien, source) ?"
      ]
    },
    {
      "cell_type": "markdown",
      "id": "c4a85a97-069d-4ea8-9733-edc9716a8435",
      "metadata": {
        "id": "c4a85a97-069d-4ea8-9733-edc9716a8435"
      },
      "source": [
        "# Réponse :\n",
        "\n",
        "*  Lien: https://www.kaggle.com/datasets/arashnic/book-recommendation-dataset/data\n",
        "*  Source: Recueilli par Cai-Nicolas Ziegler au cours d'une collecte de 4 semaines (août/septembre 2004) auprès de la communauté Book-Crossing avec l'aimable autorisation de Ron Hornbaker, CTO de Humankind Systems. Contient 278 858 utilisateurs (anonymisés mais avec des informations démographiques) fournissant 1 149 780 évaluations (explicites/implicites) sur 271 379 livres."
      ]
    },
    {
      "cell_type": "markdown",
      "id": "40e2c0c5-027d-4b83-ab41-2ec1428db31a",
      "metadata": {
        "id": "40e2c0c5-027d-4b83-ab41-2ec1428db31a"
      },
      "source": [
        "# Question 2 : Quel est le contexte du jeu de données ?\n"
      ]
    },
    {
      "cell_type": "markdown",
      "id": "ab1088f8-15cb-46dd-8832-b92e602c1c82",
      "metadata": {
        "id": "ab1088f8-15cb-46dd-8832-b92e602c1c82"
      },
      "source": [
        "# Réponse :\n",
        "\n",
        "Au cours des dernières décennies, avec l'essor de Youtube, Amazon, Netflix et bien d'autres services web du même type, les systèmes de recommandation ont pris une place de plus en plus importante dans nos vies. Du e-commerce (proposer aux acheteurs des articles susceptibles de les intéresser) à la publicité en ligne (proposer aux utilisateurs des contenus adaptés, correspondant à leurs préférences), les systèmes de recommandation sont aujourd'hui incontournables dans nos parcours en ligne quotidiens.\n",
        "Les systèmes de recommandation sont vraiment essentiels dans certains secteurs car ils peuvent générer d’énormes revenus lorsqu’ils sont efficaces ou être un moyen de se démarquer considérablement de la concurrence. Pour preuve de l’importance des systèmes de recommandation, nous pouvons mentionner qu’il y a quelques années, Netflix a organisé un concours (le « prix Netflix ») dont l’objectif était de produire un système de recommandation plus performant que son propre algorithme avec un prix d’un million de dollars à gagner.\n",
        "\n",
        "**Contenu**:\n",
        "L'ensemble de données Book-Crossing comprend 3 fichiers.\n",
        "*  Users:\n",
        "Contient les utilisateurs. Notez que les identifiants d'utilisateur (User-ID) ont été anonymisés et correspondent à des entiers. Des données démographiques sont fournies (emplacement, âge) si elles sont disponibles. Sinon, ces champs contiennent des valeurs NULL.\n",
        "*  Books:\n",
        "Les livres sont identifiés par leur ISBN respectif. Les ISBN non valides ont déjà été supprimés de l'ensemble de données. De plus, certaines informations basées sur le contenu sont fournies (Titre du livre, Auteur du livre, Année de publication, Éditeur), obtenues à partir d'Amazon Web Services. Notez que dans le cas de plusieurs auteurs, seul le premier est fourni. Des URL menant à des images de couverture sont également fournies, apparaissant sous trois formes différentes (Image-URL-S, Image-URL-M, Image-URL-L), c'est-à-dire petite, moyenne, grande. Ces URL pointent vers le site Web d'Amazon.\n",
        "*  Ratings:\n",
        "Contient les informations de notation du livre. Les notes (Book-Rating) sont soit explicites, exprimées sur une échelle de 1 à 10 (les valeurs les plus élevées dénotant une appréciation plus élevée), soit implicites, exprimées par 0.\n",
        "\n",
        "* Remarque: Les trois fichiers contiennent beaucoup des lignes (plus de 200 000 chacun) et qu'on a eu du mal à les intégrer dans Neo4J car ça prenait trop de temps, nous avons sélectionné que les 10 000 premières lignes pour chaque fichier."
      ]
    },
    {
      "cell_type": "markdown",
      "id": "dc762ee2-1abc-4336-88f7-d727cf5a244e",
      "metadata": {
        "id": "dc762ee2-1abc-4336-88f7-d727cf5a244e"
      },
      "source": [
        "# Prétraitement des données\n",
        "* Problème: Dans le fichier Users, la colonne **Age** contient beaucoup de valeurs manquantes pour environ **110762** utilisateurs (environ 40 % des données). La colonne **Location** aussi contient des valeurs manquantes.\n",
        "* Solution proposée: D'abord la colonne Location a été divisée en trois colonnes à savoir la colonne **City**, **State** et **Country** car elle contient les informations de la ville, l'état et du pays de l'utilisateur en question séparées par des virgules. Maintenant pour les lignes (utilisateurs) dont l'age est manquant et aussi l'état et le pays sont manquants, ces derniers sont supprimés. Pour les utilisateurs dont seulement l'age est manquant, nous avaons utilisé un modèle de machine learning (Random forest regression) pour prédire l'age de l'utilisateur en fonction des autres colonnes (features).\n",
        "Le code contenant toutes les étapes du prétraitement (en python) est contenu dans le fichier Prétraitement_données.ipynb\n",
        "Le fichier Users.csv est devenu Users_cleaned.csv après le prétraitement et c'est ce dernier (Users_cleaned.csv) qui sera utilisé pour la suite du prijet.\n",
        "Nous avons aussi supprimer les colonnes Image-URL-S, Image-URL-M et Image-URL-L contenant les urls de ces livres car elles sont pas utiles pour notre travail."
      ]
    },
    {
      "cell_type": "markdown",
      "id": "a8e157c4-18d5-4881-b6a8-e99f7033316f",
      "metadata": {
        "id": "a8e157c4-18d5-4881-b6a8-e99f7033316f"
      },
      "source": [
        "# Partie 2 : Chargement des données dans Neo4J"
      ]
    },
    {
      "cell_type": "markdown",
      "id": "07ecb56c-e8e6-4a3c-91f3-8002dced6c0c",
      "metadata": {
        "id": "07ecb56c-e8e6-4a3c-91f3-8002dced6c0c"
      },
      "source": [
        "# Question 1 : Quelles données chargeons-nous dans neo4j?"
      ]
    },
    {
      "cell_type": "markdown",
      "id": "f5676eb4-c713-404d-9c4c-0a2a5406443f",
      "metadata": {
        "id": "f5676eb4-c713-404d-9c4c-0a2a5406443f"
      },
      "source": [
        "# Réponse :\n",
        "Nous chargeons le dataset Book Recommendation composé de trois fichiers (Books.csv, Users.csv et Ratings.csv) comme mentionné dans la réponse à la question 2 de la partie 1."
      ]
    },
    {
      "cell_type": "markdown",
      "id": "f1333179-6910-43dc-b3b0-73adb8a05d32",
      "metadata": {
        "id": "f1333179-6910-43dc-b3b0-73adb8a05d32"
      },
      "source": [
        "# Question 1 : Faisons-nous des traitements/modifications lors du chargement?"
      ]
    },
    {
      "cell_type": "markdown",
      "id": "91c7f760-7445-4305-9462-cdafc4db3034",
      "metadata": {
        "id": "91c7f760-7445-4305-9462-cdafc4db3034"
      },
      "source": [
        "# Réponse :\n",
        "Non pas de traitements ou modifications lors du chargement des données."
      ]
    },
    {
      "cell_type": "markdown",
      "id": "ac7d0c0a-fb4a-4d45-bf79-fdfea64069cd",
      "metadata": {
        "id": "ac7d0c0a-fb4a-4d45-bf79-fdfea64069cd"
      },
      "source": [
        "# Chargement des données en utilisant Neo4J uniquement."
      ]
    },
    {
      "cell_type": "markdown",
      "id": "1bfb699c-c2cb-4714-b9d1-8bc64e4bd7ac",
      "metadata": {
        "id": "1bfb699c-c2cb-4714-b9d1-8bc64e4bd7ac"
      },
      "source": [
        "# Requête pour le chargement du fichier Books.csv"
      ]
    },
    {
      "cell_type": "markdown",
      "id": "e4b0b682-0438-4222-98f1-fba1e6491c07",
      "metadata": {
        "id": "e4b0b682-0438-4222-98f1-fba1e6491c07"
      },
      "source": [
        "```\n",
        "LOAD CSV WITH HEADERS FROM 'file:///Books_subset.csv' AS row\n",
        "WITH row\n",
        "WHERE row.`Book-Title` IS NOT NULL AND row.`Book-Author` IS NOT NULL\n",
        "MERGE (b:Book {ISBN: row.ISBN})\n",
        "SET b.title = row.`Book-Title`,\n",
        "    b.author = row.`Book-Author`,\n",
        "    b.year = toInteger(row.`Year-Of-Publication`),\n",
        "    b.publisher = row.Publisher;\n",
        "```"
      ]
    },
    {
      "cell_type": "markdown",
      "id": "83dba0b5-ba85-46f0-8b7d-ffd4acd163e6",
      "metadata": {
        "id": "83dba0b5-ba85-46f0-8b7d-ffd4acd163e6"
      },
      "source": [
        "# Description des étapes de la requête ci-dessus (Fichiers Books_subset.csv)"
      ]
    },
    {
      "cell_type": "markdown",
      "id": "ed60a009-1644-493c-bf1e-1e3aec22befb",
      "metadata": {
        "id": "ed60a009-1644-493c-bf1e-1e3aec22befb"
      },
      "source": [
        "# 1. Charger les données CSV :\n",
        "LOAD CSV WITH HEADERS FROM 'file:///Books.csv' AS row\n",
        "\n",
        "* LOAD CSV WITH HEADERS: Cette commande lit les données du fichier Books.csv dans le répertoire import de Neo4j, en interprétant la première ligne comme des en-têtes.\n",
        "* AS row: Chaque ligne du fichier est traitée comme un objet row, où les colonnes peuvent être référencées par leurs noms (par exemple, row.ISBN, row.Book-Title)\n",
        "\n",
        "# 2. Filtrer les lignes avec WITH et WHERE:\n",
        "WITH row\n",
        "WHERE row.`Book-Title` IS NOT NULL AND row.`Book-Author` IS NOT NULL\n",
        "* WITH row: Transmet chaque ligne (ou variable) à l'étape suivante.\n",
        "* WHERE row.`Book-Title` IS NOT NULL : Exclut les lignes où la colonne Book-Title est vide (NULL).\n",
        "* AND row.`Book-Author` IS NOT NULL : Exclut également les lignes où la colonne Book-Author est vide.\n",
        "\n",
        "\n",
        "# 2. Identifier ou créer un nœud Book :\n",
        "MERGE (b:Book {ISBN: row.ISBN})\n",
        "\n",
        "* MERGE:  Cherche un nœud Book avec une propriété ISBN correspondant à row.ISBN.\n",
        "   * Si un tel nœud existe déjà, il le réutilise.\n",
        "   * Sinon, il crée un nouveau nœud avec l'ISBN donné.\n",
        "* (b:Book): Définit ou utilise un nœud avec le label Book.\n",
        "* {ISBN: row.ISBN}: Associe l'ISBN comme identifiant unique pour ce nœud.\n",
        "# Mettre à jour ou définir les propriétés du nœud Book\n",
        "SET b.title = row.`Book-Title`,\n",
        "    b.author = row.`Book-Author`,\n",
        "    b.year = toInteger(row.`Year-Of-Publication`),\n",
        "    b.publisher = row.Publisher';\n",
        "\n",
        "* SET: Ajoute ou met à jour les propriétés d'un nœud. Dans ce cas, les propriétés du nœud b sont définies avec les valeurs provenant de row.\n",
        "\n",
        "Propriétés mises à jour :\n",
        "1.  b.title = row.`Book-Title`: Définit la propriété title avec la valeur de la colonne Book-Title.\n",
        "2.  b.author = row.`Book-Author`: Définit la propriété author avec la valeur de la colonne Book-Author.\n",
        "3. b.year = toInteger(row.`Year-Of-Publication`): Convertit la colonne Year-Of-Publication en entier avec toInteger. Et définit la propriété year.4. b.publisher = row.Publisher: Définit la propriété publisher avec la valeur de la colonne Publisher.\n"
      ]
    },
    {
      "cell_type": "markdown",
      "id": "9e394537-f745-4c2e-9f29-83eed6c528dd",
      "metadata": {
        "id": "9e394537-f745-4c2e-9f29-83eed6c528dd"
      },
      "source": [
        "# Requête pour le chargement du fichier Users_cleaned.csv"
      ]
    },
    {
      "cell_type": "markdown",
      "id": "cff53910-5aa5-4bcb-855f-9379060bd764",
      "metadata": {
        "id": "cff53910-5aa5-4bcb-855f-9379060bd764"
      },
      "source": [
        "```\n",
        "LOAD CSV WITH HEADERS FROM 'file:///Users_cleaned.csv' AS row\n",
        "MERGE (u:user {userId: row.`User-ID`})\n",
        "SET u.userAge = row.Age,\n",
        "    u.userCity = row.City,\n",
        "    u.userState = row.State,\n",
        "    u.userCountry = row.Country;\n",
        "```"
      ]
    },
    {
      "cell_type": "markdown",
      "id": "ba97bf79-e577-41b1-99ed-c961b309cff5",
      "metadata": {
        "id": "ba97bf79-e577-41b1-99ed-c961b309cff5"
      },
      "source": [
        "# Description des étapes de la requête ci-dessus (Fichier Users_cleaned.csv)"
      ]
    },
    {
      "cell_type": "markdown",
      "id": "d8b74089-097b-4825-b619-523ad85daeb9",
      "metadata": {
        "id": "d8b74089-097b-4825-b619-523ad85daeb9"
      },
      "source": [
        "# 1. Charger le fichier CSV dans Neo4j\n",
        "LOAD CSV WITH HEADERS FROM 'file:///Users_cleaned.csv' AS row\n",
        "\n",
        "* LOAD CSV WITH HEADERS: Charge le fichier Users_cleaned.csv depuis le répertoire import de Neo4j.\n",
        "* FROM 'file:///Users_cleaned.csv': Spécifie le chemin du fichier (doit être placé dans le répertoire import de Neo4j).\n",
        "* AS row: Chaque ligne du fichier est traitée comme un objet row, où chaque colonne peut être référencée par son nom, par exemple row.`User-ID`.\n",
        "# 2. Identifier ou créer un nœud user\n",
        "MERGE (u:user {userId: row.`User-ID`})\n",
        "\n",
        "* MERGE:\n",
        "  * Cherche un nœud existant avec le label user et la propriété userId égale à row.`User-ID`.\n",
        "  * Si un tel nœud existe, il le réutilise.\n",
        "  * Sinon, il crée un nouveau nœud avec la propriété spécifiée.\n",
        "    \n",
        "* (u:user {userId: row.\\User-ID`}):\n",
        "  * Définit u comme un nœud avec le label user.\n",
        "  * La propriété userId est utilisée comme clé unique pour identifier chaque utilisateur.\n",
        "\n",
        "# 3. Ajouter ou mettre à jour les propriétés du nœud\n",
        "SET u.userAge = row.Age,\n",
        "    u.userCity = row.City,\n",
        "    u.userState = row.State,\n",
        "    u.userCountry = row.Country\n",
        "    \n",
        "* SET: Ajoute ou met à jour les propriétés du nœud user.\n",
        "Propriétés définies :\n",
        "1. u.userAge = row.Age :\n",
        "   * Définit la propriété userAge avec la valeur de la colonne Age.\n",
        "   * Exemple : Si Age = 25, alors userAge = 25.\n",
        "2.  u.userCity = row.City :\n",
        "   * Définit la propriété userCity avec la valeur de la colonne City.\n",
        "     \n",
        "3. u.userState = row.State :\n",
        "   * Définit la propriété userState avec la valeur de la colonne State.\n",
        "4. u.userCountry = row.Country :\n",
        "   * Définit la propriété userCountry avec la valeur de la colonne Country.\n",
        "\n",
        "\n"
      ]
    },
    {
      "cell_type": "markdown",
      "id": "1fa5b170-f60f-4e55-91a9-7b705f844b0e",
      "metadata": {
        "id": "1fa5b170-f60f-4e55-91a9-7b705f844b0e"
      },
      "source": [
        "# Requête pour le chargement du fichier Ratings.csv"
      ]
    },
    {
      "cell_type": "markdown",
      "id": "c2b66211-c008-45bf-801b-1c67f4886e61",
      "metadata": {
        "id": "c2b66211-c008-45bf-801b-1c67f4886e61"
      },
      "source": [
        "```\n",
        "LOAD CSV WITH HEADERS FROM 'file:///Ratings_subset.csv' AS row\n",
        "WITH row\n",
        "WHERE row.`User-ID` IS NOT NULL AND row.`User-ID` <> \"\"\n",
        "MERGE (u:user {userId: toInteger(row.`User-ID`)});\n",
        "\n",
        "```"
      ]
    },
    {
      "cell_type": "markdown",
      "id": "2d2e0d59-4795-49cf-81bb-42e1d8cfc07f",
      "metadata": {
        "id": "2d2e0d59-4795-49cf-81bb-42e1d8cfc07f"
      },
      "source": [
        "# Description des étapes de la requête ci-dessus (Ratings_subset.csv)"
      ]
    },
    {
      "cell_type": "markdown",
      "id": "9ed5234a-e386-481d-a7b6-a7e8361dc6c1",
      "metadata": {
        "id": "9ed5234a-e386-481d-a7b6-a7e8361dc6c1"
      },
      "source": [
        "# 1. Charger le fichier CSV\n",
        "LOAD CSV WITH HEADERS FROM 'file:///Ratings_subset.csv' AS row\n",
        "\n",
        "* LOAD CSV WITH HEADERS FROM 'file:///Ratings_subset.csv':\n",
        "  * Charge les données du fichier CSV Ratings_subset.csv depuis le répertoire import de Neo4j.\n",
        "  * La première ligne du fichier est interprétée comme en-tête de colonne.\n",
        "* AS row:\n",
        "  * Chaque ligne du fichier CSV est traitée comme un objet row.\n",
        "  * Les colonnes du fichier peuvent être accédées en utilisant leur nom, par exemple, row.`User-ID`.\n",
        "    \n",
        "# 2. Passer les données à l’étape suivante\n",
        "WITH row\n",
        "* WITH row:\n",
        "  * Transmet les données de chaque ligne à l'étape suivante.\n",
        "  * Permet de manipuler et de filtrer les données avant leur utilisation dans d'autres opérations comme MERGE.\n",
        "\n",
        "# 3. Filtrer les lignes valides\n",
        "WHERE row.`User-ID` IS NOT NULL AND row.`User-ID` <> \"\"\n",
        "\n",
        "* WHERE :\n",
        "  * Filtre les lignes pour s'assurer que la colonne User-ID n'est ni NULL ni vide.\n",
        "* row.`User-ID` IS NOT NULL :\n",
        "  * Vérifie que la valeur dans la colonne User-ID n'est pas absente (non définie ou NULL).\n",
        "* row.`User-ID` <> \"\" :\n",
        "  * Vérifie que la valeur dans la colonne User-ID n'est pas une chaîne vide.\n",
        "    \n",
        "# 4. Fusionner ou créer un nœud utilisateur\n",
        "MERGE (u:user {userId: toInteger(row.`User-ID`)});\n",
        "* MERGE :\n",
        "  * Cherche un nœud existant avec le label user et la propriété userId égale à toInteger(row.`\\User-ID`).\n",
        "  * Si un tel nœud existe déjà, il est réutilisé.\n",
        "  * Sinon, un nouveau nœud est créé avec cette propriété.\n",
        "* (u:user {userId: toInteger(row.`\\User-ID`)}) :\n",
        "  * Définit le nœud u avec:\n",
        "    * Le label user : Identifie les nœuds comme des utilisateurs.\n",
        "    * La propriété userId : Identifie l’utilisateur de manière unique.\n",
        "    * La conversion toInteger(row.`User-ID`): Convertit la valeur de `User-ID` (qui est une chaîne dans le CSV) en entier.\n",
        "\n",
        "# Étape suivante : Importer les relations RATED\n",
        "Une fois les utilisateurs et les livres correctement importés, nous pouvons importer les relations entre eux (RATED) en utilisant une requête\n",
        "comme celle-ci :\n",
        "\n",
        "LOAD CSV WITH HEADERS FROM 'file:///Ratings_subset.csv' AS row\n",
        "MATCH (u:user {userId: toInteger(row.`User-ID`)})\n",
        "MATCH (b:Book {ISBN: row.ISBN})\n",
        "MERGE (u)-[r:RATED]->(b)\n",
        "SET r.rating = toInteger(row.`Book-Ratin`);\n",
        "\n",
        "\n",
        "\n"
      ]
    },
    {
      "cell_type": "markdown",
      "id": "10cb9ee3-662b-4f8f-a6bc-7e5803464bf1",
      "metadata": {
        "id": "10cb9ee3-662b-4f8f-a6bc-7e5803464bf1"
      },
      "source": [
        "# Partie 3 : Recommandation"
      ]
    },
    {
      "cell_type": "markdown",
      "id": "62907a33-8e42-4d5c-be21-1e2778c5025d",
      "metadata": {
        "id": "62907a33-8e42-4d5c-be21-1e2778c5025d"
      },
      "source": [
        "# Question : Quelle recommandation proposons-nous?"
      ]
    },
    {
      "cell_type": "markdown",
      "id": "888387d3-18f2-400d-a20d-3c138027de26",
      "metadata": {
        "id": "888387d3-18f2-400d-a20d-3c138027de26"
      },
      "source": [
        "# Réponse :\n",
        "Nous proposons un système de recommandation collaboratif (User-based) utilisant la similarité cosinus, autrement dit on va identifier les utilisateurs ayant une similarité élevée avec l'utilisateur cible. Et enfin recommander des livres bien notés par les utilisateurs similaires, mais non évalués par l'utilisateur cible."
      ]
    },
    {
      "cell_type": "markdown",
      "id": "45de33a1-d215-415a-837f-b5958d8256bf",
      "metadata": {
        "id": "45de33a1-d215-415a-837f-b5958d8256bf"
      },
      "source": [
        "# Ce qui est recommandé :\n",
        "Les livres bien notés (très bon ratings) par les utilisateurs similaires à l'utilisant cible vont lui être recommandés (ces livres ne sont pas évalués par cet utilisateur)."
      ]
    },
    {
      "cell_type": "markdown",
      "id": "75ba6e21-9d8c-45b9-82ca-5fd2af22169b",
      "metadata": {
        "id": "75ba6e21-9d8c-45b9-82ca-5fd2af22169b"
      },
      "source": [
        "# À qui s'adresse cette recommandation? :\n",
        "À un utilisateur qui est similaire aux utilisateurs ayant bien notés les livres recommandés."
      ]
    },
    {
      "cell_type": "markdown",
      "id": "d42cbf93-9331-4f9e-bdbe-ed69997c541e",
      "metadata": {
        "id": "d42cbf93-9331-4f9e-bdbe-ed69997c541e"
      },
      "source": [
        "# Requêtes pour la recommandation\n",
        "\n",
        "# 1. Représenter les évaluations des utilisateurs:\n",
        "Cette requête retourne une liste de livres évalués et leurs notes pour chaque utilisateur.\n",
        "\n",
        "MATCH (u:user)-[r:RATED]->(b:Book)\n",
        "RETURN u.userId AS UserId, COLLECT({ISBN: b.ISBN, rating: r.rating}) AS Ratings\n",
        "LIMIT 10;\n",
        "# 2. Calculer la similarité cosinus entre utilisateurs:\n",
        "Nous utilisons l'algorithme de similarité cosinus pour calculer les scores entre utilisateurs partageant des livres évalués. On choisit l'utilisateur cible en spécifiant son userID (243) et on essaie de trouver les utilisateurs qui lui sont similaires.\n",
        "\n",
        "MATCH (u1:user)-[r1:RATED]->(b:Book)<-[r2:RATED]-(u2:user)\n",
        "WHERE u1.userId =2435 AND u1 <> u2\n",
        "WITH\n",
        "    u1,\n",
        "    u2,\n",
        "    COLLECT(r1.rating * r2.rating) AS productRatings,\n",
        "    COLLECT(r1.rating) AS ratings1,\n",
        "    COLLECT(r2.rating) AS ratings2\n",
        "WITH\n",
        "    u1,\n",
        "    u2,\n",
        "    REDUCE(sum = 0, x IN productRatings | sum + x) AS dotProduct,\n",
        "    SQRT(REDUCE(sum = 0, x IN ratings1 | sum + x^2)) AS magnitude1,\n",
        "    SQRT(REDUCE(sum = 0, x IN ratings2 | sum + x^2)) AS magnitude2\n",
        "WITH\n",
        "    u1,\n",
        "    u2,\n",
        "    CASE WHEN magnitude1 * magnitude2 = 0 THEN 0 ELSE dotProduct / (magnitude1 * magnitude2) END AS similarity\n",
        "RETURN u1.userId AS TargetUser, u2.userId AS SimilarUser, similarity\n",
        "ORDER BY similarity DESC\n",
        "LIMIT 5;\n",
        "\n",
        "* Explication:\n",
        "  * Trouve les utilisateurs ayant évalué les mêmes livres que l'utilisateur cible.\n",
        "  * Calcule:\n",
        "    * Produit scalaire des évaluations communes.\n",
        "    * Magnitudes des vecteurs d'évaluations.\n",
        "    * Similarité cosinus en combinant ces valeurs.\n",
        "\n",
        "# 3. Recommander des livres des utilisateurs similaires\n",
        "Après avoir trouvé les utilisateurs similaires, on recommande leurs livres bien notés mais non évalués par l'utilisateur cible.\n",
        "\n",
        "MATCH (u1:user {userId: 243})-[:RATED]->(b:Book)\n",
        "WITH COLLECT(b.ISBN) AS alreadyRated, u1\n",
        "MATCH (u2:user)-[r:RATED]->(b2:Book)\n",
        "WHERE NOT b2.ISBN IN alreadyRated AND u2 <> u1\n",
        "WITH u2, b2, r.rating AS rating, u1\n",
        "MATCH (u1)-[r1:RATED]->(b:Book)<-[r2:RATED]-(u2)\n",
        "WITH b2, AVG(rating) AS AvgRating, COUNT(*) AS SimilarityScore\n",
        "WHERE AvgRating > 7\n",
        "ORDER BY SimilarityScore DESC, AvgRating DESC\n",
        "RETURN b2.title AS RecommendedBook, b2.author AS Author, AvgRating, SimilarityScore\n",
        "LIMIT 10;\n",
        "\n",
        "* Explication:\n",
        "  * Étape 1 : Trouver les livres déjà évalués par l'utilisateur cible.\n",
        "\n",
        "    MATCH (u1:user {userId: 243})-[:RATED]->(b:Book)\n",
        "    WITH COLLECT(b.ISBN) AS alreadyRated, u1\n",
        "\n",
        "  * MATCH (u1:user {userId: 243})-[:RATED]->(b:Book) :\n",
        "    * Identifie l'utilisateur cible (u1) avec userId = 243.\n",
        "    * Trouve tous les livres (b) que cet utilisateur a déjà notés via la relation RATED.\n",
        "  * WITH COLLECT(b.ISBN) AS alreadyRated :\n",
        "    * Regroupe les ISBN des livres déjà évalués dans une liste alreadyRated.\n",
        "    * Cette liste sera utilisée plus tard pour exclure ces livres des recommandations.\n",
        "      \n",
        "*  Étape 2 : Trouver les livres évalués par d'autres utilisateurs.\n",
        "\n",
        "   MATCH (u2:user)-[r:RATED]->(b2:Book)\n",
        "   WHERE NOT b2.ISBN IN alreadyRated AND u2 <> u1\n",
        "\n",
        "  * MATCH (u2:user)-[r:RATED]->(b2:Book) :\n",
        "    * Trouve tous les autres utilisateurs (u2) et les livres (b2) qu'ils ont évalués.\n",
        "  * WHERE NOT b2.ISBN IN alreadyRated AND u2 <> u1 :\n",
        "    * Exclut les livres déjà évalués par l'utilisateur cible (b2.ISBN NOT IN alreadyRated).\n",
        "    * Ignore l'utilisateur cible lui-même (u2 <> u1).\n",
        "\n",
        "*  Étape 3 : Préparer les évaluations des utilisateurs similaires.\n",
        "\n",
        "   WITH u2, b2, r.rating AS rating, u1\n",
        "\n",
        "  * WITH:\n",
        "    * Passe les résultats intermédiaires à l'étape suivante :\n",
        "      * u2 : Utilisateurs similaires.\n",
        "      * b2 : Livres évalués par ces utilisateurs.\n",
        "      * r.rating : Notes données aux livres.\n",
        "        \n",
        "* Étape 4 : Identifier les relations avec l'utilisateur cible.\n",
        "\n",
        "  MATCH (u1)-[r1:RATED]->(b:Book)<-[r2:RATED]-(u2)\n",
        "\n",
        "  * MATCH (u1)-[r1:RATED]->(b:Book)<-[r2:RATED]-(u2) :\n",
        "    * Trouve les livres évalués en commun par l'utilisateur cible (u1) et les utilisateurs similaires (u2).\n",
        "    * Cette étape permet de mesurer la similarité entre les utilisateurs.\n",
        "\n",
        "* Étape 5 : Calculer les scores pour chaque livre.\n",
        "\n",
        "  WITH b2, AVG(rating) AS AvgRating, COUNT(*) AS SimilarityScore\n",
        "\n",
        "  * AVG(rating) :\n",
        "    * Calcule la moyenne des notes données par les utilisateurs similaires pour chaque livre (b2).\n",
        "    * Donne une indication de la qualité des livres selon les utilisateurs similaires.\n",
        "  * COUNT(*) :\n",
        "    * Compte le nombre d'utilisateurs similaires ayant évalué chaque livre.\n",
        "    * Ce score (SimilarityScore) mesure la pertinence du livre en fonction de sa popularité parmi les utilisateurs similaires.\n",
        "\n",
        "* Étape 6 : Filtrer les livres avec des meilleures notes.\n",
        "\n",
        "  WHERE AvgRating > 7\n",
        "\n",
        "  * WHERE AvgRating > 7:\n",
        "    * Exclut les livres pour lesquels la moyenne des notes est inférieure à 7 car on considère qu'un livre est mieux noté si sa note moyenne est supérieure à 7. On rappelle que la note (rating) est comprise entre 0 et 10.\n",
        "\n",
        "* Étape 7 : Trier et limiter les résultats.\n",
        "\n",
        "  ORDER BY SimilarityScore DESC, AvgRating DESC\n",
        "  RETURN b2.title AS RecommendedBook, b2.author AS Author, AvgRating, SimilarityScore  LIMIT 10;\n",
        "\n",
        "  * ORDER BY SimilarityScore DESC, AvgRating DESC :\n",
        "    * Trie les résultats pour privilégier les livres:\n",
        "      1. Évalués par le plus grand nombre d'utilisateurs similaires (SimilarityScore élevé).\n",
        "      2. Ayant une moyenne de notes élevée (AvgRating élevé).\n",
        "    * LIMIT 10 :\n",
        "      * Limite les résultats aux 10 livres les plus recommandés.\n",
        "   "
      ]
    }
  ],
  "metadata": {
    "kernelspec": {
      "display_name": "Python 3 (ipykernel)",
      "language": "python",
      "name": "python3"
    },
    "language_info": {
      "codemirror_mode": {
        "name": "ipython",
        "version": 3
      },
      "file_extension": ".py",
      "mimetype": "text/x-python",
      "name": "python",
      "nbconvert_exporter": "python",
      "pygments_lexer": "ipython3",
      "version": "3.11.7"
    },
    "colab": {
      "provenance": []
    }
  },
  "nbformat": 4,
  "nbformat_minor": 5
}